{
 "cells": [
  {
   "cell_type": "code",
   "execution_count": 1,
   "id": "caa06760",
   "metadata": {},
   "outputs": [],
   "source": [
    "import numpy as np\n",
    "import pandas as pd\n",
    "\n",
    "from matplotlib import pyplot as plt\n",
    "import seaborn as sns\n",
    "\n",
    "from scipy.stats import trim_mean, mode, skew, gaussian_kde, pearsonr"
   ]
  },
  {
   "cell_type": "code",
   "execution_count": 2,
   "id": "9367d9eb",
   "metadata": {},
   "outputs": [
    {
     "data": {
      "text/plain": [
       "array([1, 5, 5, 6, 3, 2, 4, 3, 6, 4, 6, 5, 3, 2, 6, 1, 5, 5, 4, 3, 6, 1,\n",
       "       2, 1, 1, 4, 2, 6, 4, 6, 4, 5, 4, 6, 1, 6, 1, 3, 1, 1, 2, 5, 1, 4,\n",
       "       4, 1, 3, 4, 5, 4, 3, 6, 2, 1, 1, 6, 4, 2, 2, 1, 3, 6, 2, 6, 3, 4,\n",
       "       6, 6, 3, 3, 1, 5, 4, 1, 1, 6, 3, 2, 6, 2, 1, 2, 3, 3, 6, 1, 1, 2,\n",
       "       2, 1, 1, 3, 4, 4, 3, 1, 4, 4, 2, 4])"
      ]
     },
     "execution_count": 2,
     "metadata": {},
     "output_type": "execute_result"
    }
   ],
   "source": [
    "rolls = np.random.choice([1, 2, 3, 4, 5, 6], size = 100)\n",
    "rolls"
   ]
  },
  {
   "cell_type": "code",
   "execution_count": 3,
   "id": "60b2567b",
   "metadata": {},
   "outputs": [],
   "source": [
    "numbers = pd.DataFrame(rolls)"
   ]
  },
  {
   "cell_type": "code",
   "execution_count": 5,
   "id": "96e99fa9",
   "metadata": {},
   "outputs": [
    {
     "data": {
      "text/plain": [
       "1    23\n",
       "4    19\n",
       "6    18\n",
       "3    16\n",
       "2    15\n",
       "5     9\n",
       "dtype: int64"
      ]
     },
     "execution_count": 5,
     "metadata": {},
     "output_type": "execute_result"
    }
   ],
   "source": [
    "numbers.value_counts()"
   ]
  },
  {
   "cell_type": "code",
   "execution_count": 6,
   "id": "87c1dfbb",
   "metadata": {},
   "outputs": [],
   "source": [
    "def mean_of_values(elements):\n",
    "    total = 0\n",
    "    for e in elements:\n",
    "        total += e\n",
    "    return (total/len(elements))"
   ]
  },
  {
   "cell_type": "code",
   "execution_count": 7,
   "id": "46a5b15a",
   "metadata": {},
   "outputs": [
    {
     "data": {
      "text/plain": [
       "8.0"
      ]
     },
     "execution_count": 7,
     "metadata": {},
     "output_type": "execute_result"
    }
   ],
   "source": [
    "mean_of_values([3, 4, 5, 20])"
   ]
  },
  {
   "cell_type": "code",
   "execution_count": null,
   "id": "1b7501fd",
   "metadata": {},
   "outputs": [],
   "source": []
  }
 ],
 "metadata": {
  "kernelspec": {
   "display_name": "ironhack",
   "language": "python",
   "name": "ironhack"
  },
  "language_info": {
   "codemirror_mode": {
    "name": "ipython",
    "version": 3
   },
   "file_extension": ".py",
   "mimetype": "text/x-python",
   "name": "python",
   "nbconvert_exporter": "python",
   "pygments_lexer": "ipython3",
   "version": "3.8.10"
  }
 },
 "nbformat": 4,
 "nbformat_minor": 5
}
